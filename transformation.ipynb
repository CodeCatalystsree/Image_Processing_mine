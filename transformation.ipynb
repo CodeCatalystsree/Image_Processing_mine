{
 "cells": [
  {
   "cell_type": "code",
   "execution_count": 2,
   "id": "af24d666-1b9d-4811-9bce-adf27cc3d984",
   "metadata": {},
   "outputs": [],
   "source": [
    "import cv2\n",
    "import matplotlib.pyplot as plt\n",
    "import numpy as np\n"
   ]
  },
  {
   "cell_type": "code",
   "execution_count": null,
   "id": "9af878b6-9b61-4b19-8003-7564579a0186",
   "metadata": {},
   "outputs": [],
   "source": [
    "#NEGTIVE IMAGE\n",
    "import cv2\n",
    "import matplotlib.pyplot as plt\n",
    "import numpy as np\n",
    "img=cv2.imread('IPPO.JPEG',0)\n",
    "NEG_IMG=cv2.bitwise_not(img)\n",
    "\n",
    "plt.subplot(1,2,1)\n",
    "plt.imshow(img)\n",
    "plt.subplot(1,2,2)\n",
    "plt.imshow(NEG_IMG,cmap='gray')\n",
    "plt.show()\n"
   ]
  },
  {
   "cell_type": "code",
   "execution_count": null,
   "id": "30dbf21d-ed52-4c9e-89ca-5b80f120b624",
   "metadata": {},
   "outputs": [],
   "source": [
    "#NEGTIVE IMAGE\n"
   ]
  },
  {
   "cell_type": "code",
   "execution_count": null,
   "id": "f7c9f7fe-a6af-4b19-b765-6d4699c9b4eb",
   "metadata": {},
   "outputs": [
    {
     "name": "stderr",
     "output_type": "stream",
     "text": [
      "C:\\Users\\user\\AppData\\Local\\Temp\\ipykernel_9024\\1992326426.py:15: RuntimeWarning: divide by zero encountered in log\n",
      "  log_transformed = (c * np.log(1 + img)).astype(np.uint8)\n",
      "C:\\Users\\user\\AppData\\Local\\Temp\\ipykernel_9024\\1992326426.py:15: RuntimeWarning: invalid value encountered in cast\n",
      "  log_transformed = (c * np.log(1 + img)).astype(np.uint8)\n"
     ]
    }
   ],
   "source": [
    "import cv2\n",
    "import numpy as np\n",
    "#def log_operation(image_path):\n",
    "img = cv2.imread('IPPO.JPEG', cv2.IMREAD_GRAYSCALE)\n",
    "    \n",
    "if img is None:\n",
    "    print(\"Error: Image not found!\")\n",
    "    \n",
    "\n",
    "# Display the original image\n",
    "cv2.imshow(\"Original Image\", img)\n",
    "\n",
    "# Apply log transformation for enhancement\n",
    "c = 255 / np.log(1 + np.max(img))\n",
    "log_transformed = (c * np.log(1 + img)).astype(np.uint8)\n",
    "\n",
    "# Display the log-transformed image\n",
    "cv2.imshow(\"Log Transformed Image\", log_transformed)\n",
    "\n",
    "# Compare using image subtraction (original - enhanced)\n",
    "subtracted_image = cv2.absdiff(img,log_transformed )\n",
    "\n",
    "# Display the image subtraction result\n",
    "cv2.imshow(\"Image Subtraction\", subtracted_image)\n",
    "\n",
    "# Wait for a key press and close the windows\n",
    "cv2.waitKey(0)\n",
    "cv2.destroyAllWindows()"
   ]
  },
  {
   "cell_type": "code",
   "execution_count": 5,
   "id": "aac48adb-a82e-44d3-80f4-28afcfb4d479",
   "metadata": {},
   "outputs": [
    {
     "name": "stderr",
     "output_type": "stream",
     "text": [
      "C:\\Users\\user\\AppData\\Local\\Temp\\ipykernel_8180\\2990408973.py:16: RuntimeWarning: divide by zero encountered in log\n",
      "  log_transformed = (c * np.log(1 + img)).astype(np.uint8)\n",
      "C:\\Users\\user\\AppData\\Local\\Temp\\ipykernel_8180\\2990408973.py:16: RuntimeWarning: invalid value encountered in cast\n",
      "  log_transformed = (c * np.log(1 + img)).astype(np.uint8)\n"
     ]
    }
   ],
   "source": [
    "import cv2\n",
    "import numpy as np\n",
    "def log_operation(image_path):\n",
    "    img = cv2.imread(image_path, cv2.IMREAD_GRAYSCALE)\n",
    "    \n",
    "    if img is None:\n",
    "        print(\"Error: Image not found!\")\n",
    "        return\n",
    "    \n",
    "\n",
    "# Display the original image\n",
    "    cv2.imshow(\"Original Image\", img)\n",
    "\n",
    "# Apply log transformation for enhancement\n",
    "    c = 255 / np.log(1 + np.max(img))\n",
    "    log_transformed = (c * np.log(1 + img)).astype(np.uint8)\n",
    "\n",
    "# Display the log-transformed image\n",
    "    cv2.imshow(\"Log Transformed Image\", log_transformed)\n",
    "\n",
    "# Compare using image subtraction (original - enhanced)\n",
    "    subtracted_image = cv2.absdiff(img,log_transformed )\n",
    "\n",
    "# Display the image subtraction result\n",
    "    cv2.imshow(\"Image Subtraction\", subtracted_image)\n",
    "\n",
    "# Wait for a key press and close the windows\n",
    "    cv2.waitKey(0)\n",
    "    cv2.destroyAllWindows()\n",
    "log_operation(\"IPPO2.JPEG\")"
   ]
  },
  {
   "cell_type": "code",
   "execution_count": 6,
   "id": "2650e0aa-843b-445b-bf07-c2578dccbdff",
   "metadata": {},
   "outputs": [],
   "source": [
    "#POWERLAW"
   ]
  },
  {
   "cell_type": "code",
   "execution_count": null,
   "id": "b338cb50-ada2-4a96-804a-68595127414c",
   "metadata": {},
   "outputs": [],
   "source": [
    "#PIECEWISE"
   ]
  }
 ],
 "metadata": {
  "kernelspec": {
   "display_name": "Python 3 (ipykernel)",
   "language": "python",
   "name": "python3"
  },
  "language_info": {
   "codemirror_mode": {
    "name": "ipython",
    "version": 3
   },
   "file_extension": ".py",
   "mimetype": "text/x-python",
   "name": "python",
   "nbconvert_exporter": "python",
   "pygments_lexer": "ipython3",
   "version": "3.12.7"
  }
 },
 "nbformat": 4,
 "nbformat_minor": 5
}
